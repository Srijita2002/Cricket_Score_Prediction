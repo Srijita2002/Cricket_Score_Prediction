{
 "cells": [
  {
   "cell_type": "code",
   "execution_count": 1,
   "id": "ee04117c",
   "metadata": {},
   "outputs": [
    {
     "name": "stdout",
     "output_type": "stream",
     "text": [
      "Collecting bz2file\n",
      "  Downloading bz2file-0.98.tar.gz (11 kB)\n",
      "  Preparing metadata (setup.py): started\n",
      "  Preparing metadata (setup.py): finished with status 'done'\n",
      "Building wheels for collected packages: bz2file\n",
      "  Building wheel for bz2file (setup.py): started\n",
      "  Building wheel for bz2file (setup.py): finished with status 'done'\n",
      "  Created wheel for bz2file: filename=bz2file-0.98-py3-none-any.whl size=6889 sha256=9e3ca2c1d9d10db8ceccc1b8c43eeb9dfb27ff9832ce30629844704beeb30c5e\n",
      "  Stored in directory: c:\\users\\user\\appdata\\local\\pip\\cache\\wheels\\2e\\66\\92\\a62f132404928e4d06450e8a1183bd859c4755d42b4d457a02\n",
      "Successfully built bz2file\n",
      "Installing collected packages: bz2file\n",
      "Successfully installed bz2file-0.98\n",
      "Note: you may need to restart the kernel to use updated packages.\n"
     ]
    }
   ],
   "source": [
    "pip install bz2file"
   ]
  },
  {
   "cell_type": "code",
   "execution_count": 2,
   "id": "e121863a",
   "metadata": {},
   "outputs": [],
   "source": [
    "import bz2file as bz2\n",
    "import pickle"
   ]
  },
  {
   "cell_type": "code",
   "execution_count": 11,
   "id": "7824a12f",
   "metadata": {},
   "outputs": [],
   "source": [
    "with open('ml_model.pkl', 'rb') as file:\n",
    "    loaded_model = pickle.load(file)\n",
    "\n",
    "# Compress and save the loaded model\n",
    "def compressed_pickle(title, data):\n",
    "    with bz2.BZ2File(title + '.pbz2', 'w') as f:\n",
    "        pickle.dump(data, f)\n",
    "\n",
    "\n",
    "compressed_pickle('compressed_model', loaded_model)\n"
   ]
  },
  {
   "cell_type": "code",
   "execution_count": 13,
   "id": "5f62ce8d",
   "metadata": {},
   "outputs": [],
   "source": [
    "def decompress_pickle(file):\n",
    "    data = bz2.BZ2File(file, 'rb')\n",
    "    data = pickle.load(data)\n",
    "    return data"
   ]
  },
  {
   "cell_type": "code",
   "execution_count": 14,
   "id": "1a2c6ddf",
   "metadata": {},
   "outputs": [],
   "source": [
    "model = decompress_pickle('compressed_model.pbz2')"
   ]
  },
  {
   "cell_type": "code",
   "execution_count": null,
   "id": "f09cd76d",
   "metadata": {},
   "outputs": [],
   "source": []
  }
 ],
 "metadata": {
  "kernelspec": {
   "display_name": "Python 3 (ipykernel)",
   "language": "python",
   "name": "python3"
  },
  "language_info": {
   "codemirror_mode": {
    "name": "ipython",
    "version": 3
   },
   "file_extension": ".py",
   "mimetype": "text/x-python",
   "name": "python",
   "nbconvert_exporter": "python",
   "pygments_lexer": "ipython3",
   "version": "3.10.9"
  }
 },
 "nbformat": 4,
 "nbformat_minor": 5
}
